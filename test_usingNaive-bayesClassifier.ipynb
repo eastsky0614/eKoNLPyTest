{
 "cells": [
  {
   "cell_type": "code",
   "execution_count": 3,
   "metadata": {},
   "outputs": [],
   "source": [
    "import os\n",
    "from collections import defaultdict\n",
    "from pandas import read_table\n",
    "import numpy as np\n",
    "import math"
   ]
  },
  {
   "cell_type": "code",
   "execution_count": 4,
   "metadata": {},
   "outputs": [],
   "source": [
    "from ekonlpy.sentiment import MPCK\n",
    "mpck = MPCK()"
   ]
  },
  {
   "cell_type": "code",
   "execution_count": 5,
   "metadata": {},
   "outputs": [],
   "source": [
    "class NaiveBayesClassifier:\n",
    "    def __init__(self, k=0.5):\n",
    "        self.k = k\n",
    "        self.word_probs = []\n",
    "\n",
    "    def load_corpusData(self, path):\n",
    "        corpusData = read_table(path, sep=',', header=None, names=None, encoding='utf-8')\n",
    "        corpusData = np.array(corpusData)\n",
    "\n",
    "        return corpusData\n",
    "\n",
    "    def count_words(self, training_set):\n",
    "#         corpus data : dataDate, label\n",
    "        counts = defaultdict(lambda : [0, 0])\n",
    "        \n",
    "#         read testFilelist\n",
    "        file_list = os.listdir('data/news/testNews/')\n",
    "        \n",
    "        for dataDate, label in training_set:\n",
    "            for file in file_list:\n",
    "                if dataDate == file[5:15]:\n",
    "#                     read test news file\n",
    "                    corpus = open('data/news/testNews/'+file, 'r', encoding='utf-8').read()\n",
    "\n",
    "#                     make corpus like nouns(NNG), adjectives (VA, VAX), adverbs (MAG), verbs (VA) and negations using eKoNLPy\n",
    "                    tokens = mpck.tokenize(corpus)\n",
    "                    ngrams = mpck.ngramize(tokens)\n",
    "\n",
    "#                     count feature\n",
    "                    for ngram in ngrams+tokens:\n",
    "                        counts[ngram][0 if label == 1 else 1] += 1\n",
    "        \n",
    "        return counts\n",
    "\n",
    "    def word_probabilities(self, counts, total_class0, total_class1, k):\n",
    "        # get word, p(w|positive), p(w|negative)\n",
    "        return [(w, (class0 + k) / (total_class0 + 2*k), (class1 + k) / (total_class1 + 2*k))\n",
    "                for w, (class0, class1) in counts.items()]        \n",
    "\n",
    "    def train(self, trainfile_path):\n",
    "        training_set = self.load_corpusData(trainfile_path)\n",
    "\n",
    "#         get prior\n",
    "        positive = len([1 for _, label in training_set if label == 1])\n",
    "        negative = len(training_set) - positive\n",
    "\n",
    "#         train\n",
    "        word_counts = self.count_words(training_set)\n",
    "        \n",
    "        self.word_probs = self.word_probabilities(word_counts, positive, negative, self.k)\n",
    "\n",
    "#         save words\n",
    "        for noOfWord in range(len(self.word_probs)):\n",
    "            if self.word_probs[noOfWord][1]/self.word_probs[noOfWord][2] > 1:\n",
    "                with open('data/res/positive.csv', 'a', encoding='utf-8') as f:\n",
    "                    f.write(self.word_probs[noOfWord][0]+'\\n')\n",
    "            else:\n",
    "                with open('data/res/negative.csv', 'a', encoding='utf-8') as f:\n",
    "                    f.write(self.word_probs[noOfWord][0]+'\\n') "
   ]
  },
  {
   "cell_type": "code",
   "execution_count": 6,
   "metadata": {},
   "outputs": [],
   "source": [
    "model = NaiveBayesClassifier()\n",
    "# save result file in res folder\n",
    "model.train(trainfile_path='data/labeledCallRate.csv')"
   ]
  },
  {
   "cell_type": "code",
   "execution_count": null,
   "metadata": {},
   "outputs": [],
   "source": []
  }
 ],
 "metadata": {
  "kernelspec": {
   "display_name": "Python 3",
   "language": "python",
   "name": "python3"
  },
  "language_info": {
   "codemirror_mode": {
    "name": "ipython",
    "version": 3
   },
   "file_extension": ".py",
   "mimetype": "text/x-python",
   "name": "python",
   "nbconvert_exporter": "python",
   "pygments_lexer": "ipython3",
   "version": "3.6.4"
  }
 },
 "nbformat": 4,
 "nbformat_minor": 2
}
